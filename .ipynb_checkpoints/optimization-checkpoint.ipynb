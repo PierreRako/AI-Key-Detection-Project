{
 "cells": [
  {
   "cell_type": "markdown",
   "metadata": {},
   "source": [
    "<h1>Optimization - MALIS project Key Estimation</h1>"
   ]
  },
  {
   "cell_type": "markdown",
   "metadata": {},
   "source": [
    "Execute this cell to import everything needed"
   ]
  },
  {
   "cell_type": "code",
   "execution_count": 1,
   "metadata": {},
   "outputs": [],
   "source": [
    "from sklearn.model_selection import cross_val_score, KFold, StratifiedKFold, validation_curve\n",
    "from sklearn.model_selection import GridSearchCV\n",
    "from sklearn.metrics import confusion_matrix\n",
    "\n",
    "import numpy as np\n",
    "import matplotlib.pyplot as plt\n",
    "from sklearn.neural_network import MLPClassifier\n",
    "from sklearn.model_selection import train_test_split\n",
    "from loading_dataset import prepare_panda_dataFrame\n",
    "import pandas as pd"
   ]
  },
  {
   "cell_type": "markdown",
   "metadata": {},
   "source": [
    "LOADING DATASETS"
   ]
  },
  {
   "cell_type": "markdown",
   "metadata": {},
   "source": [
    "GIANTSTEPS SMALL"
   ]
  },
  {
   "cell_type": "code",
   "execution_count": 2,
   "metadata": {},
   "outputs": [
    {
     "name": "stdout",
     "output_type": "stream",
     "text": [
      "loading ./Datasets/giantsteps-key-dataset-master/audio\n",
      "What transformation would you like to perform on your dataset,\n",
      "enter 1 for chromagram, 2 for spectrogram:2\n",
      "2\n",
      "Processing data, please wait\n"
     ]
    },
    {
     "name": "stderr",
     "output_type": "stream",
     "text": [
      "/home/mirado/GIT/AI-Key-Detection-Project/loading_dataset.py:132: VisibleDeprecationWarning: Creating an ndarray from ragged nested sequences (which is a list-or-tuple of lists-or-tuples-or ndarrays with different lengths or shapes) is deprecated. If you meant to do this, you must specify 'dtype=object' when creating the ndarray\n",
      "  audio_key_tuples = np.array(audio_key_tuples)\n"
     ]
    },
    {
     "name": "stdout",
     "output_type": "stream",
     "text": [
      "Audios have correctly been processed \n",
      "\n",
      "Do you want to register data into dataframe ? [yes: enter 1/no: enter 0]:0\n"
     ]
    }
   ],
   "source": [
    "# Run this to create a csv file of a dataset\n",
    "dataset_path=\"./Datasets/giantsteps-key-dataset-master/audio\"\n",
    "key_annotation_path=\"./Datasets/giantsteps-key-dataset-master/annotations/key\"\n",
    "chroma_df=prepare_panda_dataFrame(dataset_path,key_annotation_path)"
   ]
  },
  {
   "cell_type": "markdown",
   "metadata": {},
   "source": [
    "\n",
    "GIANTSTEPS GIANT"
   ]
  },
  {
   "cell_type": "code",
   "execution_count": 35,
   "metadata": {},
   "outputs": [
    {
     "name": "stdout",
     "output_type": "stream",
     "text": [
      "loading /home/mirado/GIT/AI-Key-Detection-Project/Datasets/giantsteps-mtg-key-dataset-master/audio/wav/\n",
      "What transformation would you like to perform on your dataset,\n",
      "enter 1 for chromagram, 2 for spectrogram:2\n",
      "2\n",
      "Processing data, please wait\n"
     ]
    },
    {
     "name": "stderr",
     "output_type": "stream",
     "text": [
      "/home/mirado/GIT/AI-Key-Detection-Project/loading_dataset.py:132: VisibleDeprecationWarning: Creating an ndarray from ragged nested sequences (which is a list-or-tuple of lists-or-tuples-or ndarrays with different lengths or shapes) is deprecated. If you meant to do this, you must specify 'dtype=object' when creating the ndarray\n",
      "  audio_key_tuples = np.array(audio_key_tuples)\n"
     ]
    },
    {
     "name": "stdout",
     "output_type": "stream",
     "text": [
      "Audios have correctly been processed \n",
      "\n",
      "Do you want to register data into dataframe ? [yes: enter 1/no: enter 0]:0\n"
     ]
    }
   ],
   "source": [
    "dataset_path = \"/home/mirado/GIT/AI-Key-Detection-Project/Datasets/giantsteps-mtg-key-dataset-master/audio/wav/\"\n",
    "key_annotation_path = \"/home/mirado/GIT/AI-Key-Detection-Project/Datasets/giantsteps-mtg-key-dataset-master/annotations/mtg_annotations_key/\"\n",
    "chroma_df=prepare_panda_dataFrame(dataset_path,key_annotation_path)"
   ]
  },
  {
   "cell_type": "markdown",
   "metadata": {},
   "source": [
    "-------------------- KFold & Stratified KFold --------------------"
   ]
  },
  {
   "cell_type": "code",
   "execution_count": 36,
   "metadata": {},
   "outputs": [],
   "source": [
    "    # Neural network parameters\n",
    "    epochs = 400\n",
    "    iter_for_convergence = epochs\n",
    "    hidden_layer_sizes = (100,50,30) # these represents the number of neurons IN THE HIDDEN LAYERS ONLYS\n",
    "    activation = 'logistic'\n",
    "    validation= True;\n",
    "    verbose=False;\n",
    "    learning_rate = 0.008\n",
    "    \n",
    "    # Regularization constant\n",
    "    alpha=0.0\n",
    "\n",
    "    # NNet init\n",
    "    mlp = MLPClassifier(hidden_layer_sizes=hidden_layer_sizes, activation=activation, \n",
    "                        random_state=1, max_iter=epochs, learning_rate_init=learning_rate, \n",
    "                        learning_rate='adaptive', alpha=alpha, early_stopping=validation, \n",
    "                        verbose=verbose, n_iter_no_change=iter_for_convergence)"
   ]
  },
  {
   "cell_type": "code",
   "execution_count": 37,
   "metadata": {},
   "outputs": [],
   "source": [
    "# Preparation of training data\n",
    "#spectro_gs_df = pd.read_csv(\"giantsteps_spectro.csv\")\n",
    "\n",
    "X, y = np.stack(chroma_df['chromagram']), np.array(chroma_df['coded_key'].astype('int'))"
   ]
  },
  {
   "cell_type": "code",
   "execution_count": 38,
   "metadata": {},
   "outputs": [
    {
     "name": "stderr",
     "output_type": "stream",
     "text": [
      "/home/mirado/anaconda3/lib/python3.8/site-packages/sklearn/neural_network/_multilayer_perceptron.py:582: ConvergenceWarning: Stochastic Optimizer: Maximum iterations (400) reached and the optimization hasn't converged yet.\n",
      "  warnings.warn(\n",
      "/home/mirado/anaconda3/lib/python3.8/site-packages/sklearn/neural_network/_multilayer_perceptron.py:582: ConvergenceWarning: Stochastic Optimizer: Maximum iterations (400) reached and the optimization hasn't converged yet.\n",
      "  warnings.warn(\n",
      "/home/mirado/anaconda3/lib/python3.8/site-packages/sklearn/neural_network/_multilayer_perceptron.py:582: ConvergenceWarning: Stochastic Optimizer: Maximum iterations (400) reached and the optimization hasn't converged yet.\n",
      "  warnings.warn(\n",
      "/home/mirado/anaconda3/lib/python3.8/site-packages/sklearn/neural_network/_multilayer_perceptron.py:582: ConvergenceWarning: Stochastic Optimizer: Maximum iterations (400) reached and the optimization hasn't converged yet.\n",
      "  warnings.warn(\n",
      "/home/mirado/anaconda3/lib/python3.8/site-packages/sklearn/neural_network/_multilayer_perceptron.py:582: ConvergenceWarning: Stochastic Optimizer: Maximum iterations (400) reached and the optimization hasn't converged yet.\n",
      "  warnings.warn(\n"
     ]
    }
   ],
   "source": [
    "#kfold = KFold(n_splits=5)\n",
    "skfold = StratifiedKFold(5)\n",
    "\n",
    "#y_array_kfold = cross_val_score(mlp, X, y, cv=kfold)\n",
    "y_array_skfold = cross_val_score(mlp, X, y, cv=skfold)"
   ]
  },
  {
   "cell_type": "code",
   "execution_count": 55,
   "metadata": {},
   "outputs": [
    {
     "data": {
      "image/png": "[encoded data removed]",
      "text/plain": [
       "<Figure size 432x288 with 1 Axes>"
      ]
     },
     "metadata": {
      "needs_background": "light"
     },
     "output_type": "display_data"
    }
   ],
   "source": [
    "# Ploting the results\n",
    "x = [i for i in range(1,6)]\n",
    "\n",
    "for i in range(2):\n",
    "    #plt.subplot(1,2,i+1)\n",
    "    #if i==0:\n",
    "        #plt.bar(x, y_array_kfold)\n",
    "        #plt.title(\"Results for KFold\")\n",
    "    if i==1: \n",
    "        plt.bar(x, y_array_skfold)\n",
    "        plt.title(\"Results for Stratified KFold\")"
   ]
  },
  {
   "cell_type": "code",
   "execution_count": 42,
   "metadata": {},
   "outputs": [
    {
     "name": "stdout",
     "output_type": "stream",
     "text": [
      "Average accuracy on validation for Stratified 5-Fold: 19.25 %\n"
     ]
    }
   ],
   "source": [
    "#print(\"Average accuracy on validation for 5-Fold:\", round(y_array_kfold.mean()*100, 2),\"%\")\n",
    "print(\"Average accuracy on validation for Stratified 5-Fold:\", round(y_array_skfold.mean()*100,2), \"%\")"
   ]
  },
  {
   "cell_type": "markdown",
   "metadata": {},
   "source": [
    "We recover the best split from the Stratified KFold as it has a better result in terms of accuracy."
   ]
  },
  {
   "cell_type": "code",
   "execution_count": 43,
   "metadata": {},
   "outputs": [],
   "source": [
    "accuracy = []\n",
    "skfold.get_n_splits(X,y)\n",
    "\n",
    "index = 1\n",
    "counter = 0\n",
    "\n",
    "for train_indexes, test_indexes in skfold.split(X,y):\n",
    "    if (counter == index):\n",
    "        X_train, X_test = X[train_indexes], X[test_indexes]\n",
    "        y_train, y_test = y[train_indexes], y[test_indexes]\n",
    "        break\n",
    "    counter +=1"
   ]
  },
  {
   "cell_type": "markdown",
   "metadata": {},
   "source": [
    "-------------------- GRID SEARCH --------------------"
   ]
  },
  {
   "cell_type": "code",
   "execution_count": 44,
   "metadata": {},
   "outputs": [],
   "source": [
    "# Creating the MLP Classifier and initiating all values for that\n",
    "epochs = 400\n",
    "iter_for_convergence = epochs\n",
    "hidden_layer_sizes = (100,50,30) # these represents the number of neurons IN THE HIDDEN LAYERS ONLYS\n",
    "activation = 'logistic'\n",
    "validation= True;\n",
    "verbose=False;\n",
    "\n",
    "#mlp = MLPClassifier(hidden_layer_sizes = hidden_layer_sizes, activation=activation,\n",
    "#                   random_state=1, early_stopping=validation,\n",
    "#                   verbose=verbose, n_iter_no_change=iter_for_convergence)\n",
    "\n",
    "parameters_dict = {\n",
    "    'alpha': [0.0001, 0.05],\n",
    "    'learning_rate_init': [5*10**-3, 10**-3, 8*10**-2]\n",
    "}\n",
    "\n",
    "#mlp = MLPClassifier(hidden_layer_sizes=hidden_layer_sizes, activation=activation, \n",
    "#                        random_state=1, max_iter=epochs, \n",
    "#                        learning_rate='adaptive', early_stopping=validation, \n",
    "#                        verbose=verbose, n_iter_no_change=iter_for_convergence)"
   ]
  },
  {
   "cell_type": "code",
   "execution_count": 45,
   "metadata": {},
   "outputs": [
    {
     "name": "stderr",
     "output_type": "stream",
     "text": [
      "/home/mirado/anaconda3/lib/python3.8/site-packages/sklearn/neural_network/_multilayer_perceptron.py:582: ConvergenceWarning: Stochastic Optimizer: Maximum iterations (400) reached and the optimization hasn't converged yet.\n",
      "  warnings.warn(\n"
     ]
    },
    {
     "data": {
      "text/plain": [
       "GridSearchCV(cv=5,\n",
       "             estimator=MLPClassifier(activation='logistic', alpha=0.0,\n",
       "                                     early_stopping=True,\n",
       "                                     hidden_layer_sizes=(100, 50, 30),\n",
       "                                     learning_rate='adaptive',\n",
       "                                     learning_rate_init=0.008, max_iter=400,\n",
       "                                     n_iter_no_change=400, random_state=1),\n",
       "             n_jobs=-1,\n",
       "             param_grid={'alpha': [0.0001, 0.05],\n",
       "                         'learning_rate_init': [0.005, 0.001, 0.08]})"
      ]
     },
     "execution_count": 45,
     "metadata": {},
     "output_type": "execute_result"
    }
   ],
   "source": [
    "# Performing Gridsearch on the parameters\n",
    "\n",
    "# n_jobs = number of cores to use (-1 = all available)\n",
    "# cv = number of splits for cross validation\n",
    "\n",
    "clf = GridSearchCV(mlp, parameters_dict, n_jobs=-1, cv=5)\n",
    "clf.fit(X_train, y_train)\n",
    "#mlp.fit(X_train, y_train)"
   ]
  },
  {
   "cell_type": "code",
   "execution_count": 47,
   "metadata": {},
   "outputs": [
    {
     "data": {
      "text/html": [
       "<div>\n",
       "<style scoped>\n",
       "    .dataframe tbody tr th:only-of-type {\n",
       "        vertical-align: middle;\n",
       "    }\n",
       "\n",
       "    .dataframe tbody tr th {\n",
       "        vertical-align: top;\n",
       "    }\n",
       "\n",
       "    .dataframe thead th {\n",
       "        text-align: right;\n",
       "    }\n",
       "</style>\n",
       "<table border=\"1\" class=\"dataframe\">\n",
       "  <thead>\n",
       "    <tr style=\"text-align: right;\">\n",
       "      <th></th>\n",
       "      <th>mean_fit_time</th>\n",
       "      <th>std_fit_time</th>\n",
       "      <th>mean_score_time</th>\n",
       "      <th>std_score_time</th>\n",
       "      <th>param_alpha</th>\n",
       "      <th>param_learning_rate_init</th>\n",
       "      <th>params</th>\n",
       "      <th>split0_test_score</th>\n",
       "      <th>split1_test_score</th>\n",
       "      <th>split2_test_score</th>\n",
       "      <th>split3_test_score</th>\n",
       "      <th>split4_test_score</th>\n",
       "      <th>mean_test_score</th>\n",
       "      <th>std_test_score</th>\n",
       "      <th>rank_test_score</th>\n",
       "    </tr>\n",
       "  </thead>\n",
       "  <tbody>\n",
       "    <tr>\n",
       "      <th>0</th>\n",
       "      <td>375.023848</td>\n",
       "      <td>1.445378</td>\n",
       "      <td>0.060724</td>\n",
       "      <td>0.002883</td>\n",
       "      <td>0.0001</td>\n",
       "      <td>0.005</td>\n",
       "      <td>{'alpha': 0.0001, 'learning_rate_init': 0.005}</td>\n",
       "      <td>0.203540</td>\n",
       "      <td>0.204444</td>\n",
       "      <td>0.213333</td>\n",
       "      <td>0.200000</td>\n",
       "      <td>0.186667</td>\n",
       "      <td>0.201597</td>\n",
       "      <td>0.008661</td>\n",
       "      <td>2</td>\n",
       "    </tr>\n",
       "    <tr>\n",
       "      <th>1</th>\n",
       "      <td>369.751936</td>\n",
       "      <td>4.582270</td>\n",
       "      <td>0.062659</td>\n",
       "      <td>0.004938</td>\n",
       "      <td>0.0001</td>\n",
       "      <td>0.001</td>\n",
       "      <td>{'alpha': 0.0001, 'learning_rate_init': 0.001}</td>\n",
       "      <td>0.203540</td>\n",
       "      <td>0.235556</td>\n",
       "      <td>0.213333</td>\n",
       "      <td>0.213333</td>\n",
       "      <td>0.217778</td>\n",
       "      <td>0.216708</td>\n",
       "      <td>0.010512</td>\n",
       "      <td>1</td>\n",
       "    </tr>\n",
       "    <tr>\n",
       "      <th>2</th>\n",
       "      <td>373.064554</td>\n",
       "      <td>3.506866</td>\n",
       "      <td>0.060873</td>\n",
       "      <td>0.005763</td>\n",
       "      <td>0.0001</td>\n",
       "      <td>0.08</td>\n",
       "      <td>{'alpha': 0.0001, 'learning_rate_init': 0.08}</td>\n",
       "      <td>0.092920</td>\n",
       "      <td>0.106667</td>\n",
       "      <td>0.093333</td>\n",
       "      <td>0.093333</td>\n",
       "      <td>0.093333</td>\n",
       "      <td>0.095917</td>\n",
       "      <td>0.005377</td>\n",
       "      <td>5</td>\n",
       "    </tr>\n",
       "    <tr>\n",
       "      <th>3</th>\n",
       "      <td>368.100131</td>\n",
       "      <td>1.661153</td>\n",
       "      <td>0.063610</td>\n",
       "      <td>0.007741</td>\n",
       "      <td>0.05</td>\n",
       "      <td>0.005</td>\n",
       "      <td>{'alpha': 0.05, 'learning_rate_init': 0.005}</td>\n",
       "      <td>0.097345</td>\n",
       "      <td>0.155556</td>\n",
       "      <td>0.115556</td>\n",
       "      <td>0.146667</td>\n",
       "      <td>0.142222</td>\n",
       "      <td>0.131469</td>\n",
       "      <td>0.021654</td>\n",
       "      <td>4</td>\n",
       "    </tr>\n",
       "    <tr>\n",
       "      <th>4</th>\n",
       "      <td>334.674228</td>\n",
       "      <td>62.885834</td>\n",
       "      <td>0.047161</td>\n",
       "      <td>0.012110</td>\n",
       "      <td>0.05</td>\n",
       "      <td>0.001</td>\n",
       "      <td>{'alpha': 0.05, 'learning_rate_init': 0.001}</td>\n",
       "      <td>0.163717</td>\n",
       "      <td>0.142222</td>\n",
       "      <td>0.164444</td>\n",
       "      <td>0.204444</td>\n",
       "      <td>0.173333</td>\n",
       "      <td>0.169632</td>\n",
       "      <td>0.020193</td>\n",
       "      <td>3</td>\n",
       "    </tr>\n",
       "    <tr>\n",
       "      <th>5</th>\n",
       "      <td>201.520794</td>\n",
       "      <td>1.337179</td>\n",
       "      <td>0.021735</td>\n",
       "      <td>0.007392</td>\n",
       "      <td>0.05</td>\n",
       "      <td>0.08</td>\n",
       "      <td>{'alpha': 0.05, 'learning_rate_init': 0.08}</td>\n",
       "      <td>0.070796</td>\n",
       "      <td>0.093333</td>\n",
       "      <td>0.093333</td>\n",
       "      <td>0.093333</td>\n",
       "      <td>0.062222</td>\n",
       "      <td>0.082604</td>\n",
       "      <td>0.013418</td>\n",
       "      <td>6</td>\n",
       "    </tr>\n",
       "  </tbody>\n",
       "</table>\n",
       "</div>"
      ],
      "text/plain": [
       "   mean_fit_time  std_fit_time  mean_score_time  std_score_time param_alpha  \\\n",
       "0     375.023848      1.445378         0.060724        0.002883      0.0001   \n",
       "1     369.751936      4.582270         0.062659        0.004938      0.0001   \n",
       "2     373.064554      3.506866         0.060873        0.005763      0.0001   \n",
       "3     368.100131      1.661153         0.063610        0.007741        0.05   \n",
       "4     334.674228     62.885834         0.047161        0.012110        0.05   \n",
       "5     201.520794      1.337179         0.021735        0.007392        0.05   \n",
       "\n",
       "  param_learning_rate_init                                          params  \\\n",
       "0                    0.005  {'alpha': 0.0001, 'learning_rate_init': 0.005}   \n",
       "1                    0.001  {'alpha': 0.0001, 'learning_rate_init': 0.001}   \n",
       "2                     0.08   {'alpha': 0.0001, 'learning_rate_init': 0.08}   \n",
       "3                    0.005    {'alpha': 0.05, 'learning_rate_init': 0.005}   \n",
       "4                    0.001    {'alpha': 0.05, 'learning_rate_init': 0.001}   \n",
       "5                     0.08     {'alpha': 0.05, 'learning_rate_init': 0.08}   \n",
       "\n",
       "   split0_test_score  split1_test_score  split2_test_score  split3_test_score  \\\n",
       "0           0.203540           0.204444           0.213333           0.200000   \n",
       "1           0.203540           0.235556           0.213333           0.213333   \n",
       "2           0.092920           0.106667           0.093333           0.093333   \n",
       "3           0.097345           0.155556           0.115556           0.146667   \n",
       "4           0.163717           0.142222           0.164444           0.204444   \n",
       "5           0.070796           0.093333           0.093333           0.093333   \n",
       "\n",
       "   split4_test_score  mean_test_score  std_test_score  rank_test_score  \n",
       "0           0.186667         0.201597        0.008661                2  \n",
       "1           0.217778         0.216708        0.010512                1  \n",
       "2           0.093333         0.095917        0.005377                5  \n",
       "3           0.142222         0.131469        0.021654                4  \n",
       "4           0.173333         0.169632        0.020193                3  \n",
       "5           0.062222         0.082604        0.013418                6  "
      ]
     },
     "execution_count": 47,
     "metadata": {},
     "output_type": "execute_result"
    }
   ],
   "source": [
    "df_results = pd.DataFrame(clf.cv_results_)\n",
    "df_results"
   ]
  },
  {
   "cell_type": "code",
   "execution_count": 48,
   "metadata": {},
   "outputs": [
    {
     "data": {
      "text/html": [
       "<div>\n",
       "<style scoped>\n",
       "    .dataframe tbody tr th:only-of-type {\n",
       "        vertical-align: middle;\n",
       "    }\n",
       "\n",
       "    .dataframe tbody tr th {\n",
       "        vertical-align: top;\n",
       "    }\n",
       "\n",
       "    .dataframe thead th {\n",
       "        text-align: right;\n",
       "    }\n",
       "</style>\n",
       "<table border=\"1\" class=\"dataframe\">\n",
       "  <thead>\n",
       "    <tr style=\"text-align: right;\">\n",
       "      <th></th>\n",
       "      <th>param_alpha</th>\n",
       "      <th>param_learning_rate_init</th>\n",
       "      <th>mean_test_score</th>\n",
       "    </tr>\n",
       "  </thead>\n",
       "  <tbody>\n",
       "    <tr>\n",
       "      <th>0</th>\n",
       "      <td>0.0001</td>\n",
       "      <td>0.005</td>\n",
       "      <td>0.201597</td>\n",
       "    </tr>\n",
       "    <tr>\n",
       "      <th>1</th>\n",
       "      <td>0.0001</td>\n",
       "      <td>0.001</td>\n",
       "      <td>0.216708</td>\n",
       "    </tr>\n",
       "    <tr>\n",
       "      <th>2</th>\n",
       "      <td>0.0001</td>\n",
       "      <td>0.08</td>\n",
       "      <td>0.095917</td>\n",
       "    </tr>\n",
       "    <tr>\n",
       "      <th>3</th>\n",
       "      <td>0.05</td>\n",
       "      <td>0.005</td>\n",
       "      <td>0.131469</td>\n",
       "    </tr>\n",
       "    <tr>\n",
       "      <th>4</th>\n",
       "      <td>0.05</td>\n",
       "      <td>0.001</td>\n",
       "      <td>0.169632</td>\n",
       "    </tr>\n",
       "    <tr>\n",
       "      <th>5</th>\n",
       "      <td>0.05</td>\n",
       "      <td>0.08</td>\n",
       "      <td>0.082604</td>\n",
       "    </tr>\n",
       "  </tbody>\n",
       "</table>\n",
       "</div>"
      ],
      "text/plain": [
       "  param_alpha param_learning_rate_init  mean_test_score\n",
       "0      0.0001                    0.005         0.201597\n",
       "1      0.0001                    0.001         0.216708\n",
       "2      0.0001                     0.08         0.095917\n",
       "3        0.05                    0.005         0.131469\n",
       "4        0.05                    0.001         0.169632\n",
       "5        0.05                     0.08         0.082604"
      ]
     },
     "execution_count": 48,
     "metadata": {},
     "output_type": "execute_result"
    }
   ],
   "source": [
    "df_results[['param_alpha', 'param_learning_rate_init','mean_test_score']]"
   ]
  },
  {
   "cell_type": "code",
   "execution_count": 49,
   "metadata": {},
   "outputs": [
    {
     "data": {
      "text/plain": [
       "{'alpha': 0.0001, 'learning_rate_init': 0.001}"
      ]
     },
     "execution_count": 49,
     "metadata": {},
     "output_type": "execute_result"
    }
   ],
   "source": [
    "clf.best_params_"
   ]
  },
  {
   "cell_type": "markdown",
   "metadata": {},
   "source": [
    "----------- Studying the F Score -----------"
   ]
  },
  {
   "cell_type": "code",
   "execution_count": 50,
   "metadata": {},
   "outputs": [],
   "source": [
    "# Initiating the MLP with best parameters\n",
    "epochs = 500\n",
    "iter_for_convergence = epochs\n",
    "hidden_layer_sizes = (100,50,30) # these represents the number of neurons IN THE HIDDEN LAYERS ONLYS\n",
    "activation = 'logistic'\n",
    "validation= True;\n",
    "verbose=False;\n",
    "learning_rate = 0.001\n",
    "alpha = 0.0001\n",
    "\n",
    "    # NNet init\n",
    "mlp = MLPClassifier(hidden_layer_sizes=hidden_layer_sizes, activation=activation, \n",
    "                        random_state=1, max_iter=epochs, learning_rate_init=learning_rate, \n",
    "                        learning_rate='adaptive', alpha=alpha, early_stopping=validation, \n",
    "                        verbose=verbose, n_iter_no_change=iter_for_convergence)"
   ]
  },
  {
   "cell_type": "code",
   "execution_count": 51,
   "metadata": {},
   "outputs": [
    {
     "name": "stderr",
     "output_type": "stream",
     "text": [
      "/home/mirado/anaconda3/lib/python3.8/site-packages/sklearn/neural_network/_multilayer_perceptron.py:582: ConvergenceWarning: Stochastic Optimizer: Maximum iterations (500) reached and the optimization hasn't converged yet.\n",
      "  warnings.warn(\n"
     ]
    },
    {
     "data": {
      "text/plain": [
       "MLPClassifier(activation='logistic', early_stopping=True,\n",
       "              hidden_layer_sizes=(100, 50, 30), learning_rate='adaptive',\n",
       "              max_iter=500, n_iter_no_change=500, random_state=1)"
      ]
     },
     "execution_count": 51,
     "metadata": {},
     "output_type": "execute_result"
    }
   ],
   "source": [
    "mlp.fit(X_train, y_train)"
   ]
  },
  {
   "cell_type": "code",
   "execution_count": 52,
   "metadata": {},
   "outputs": [
    {
     "data": {
      "text/plain": [
       "0.08130478050082855"
      ]
     },
     "execution_count": 52,
     "metadata": {},
     "output_type": "execute_result"
    }
   ],
   "source": [
    "from sklearn.metrics import f1_score\n",
    "y_estimate = mlp.predict(X_test)\n",
    "\n",
    "# First F score not taking label representation unbalance into account\n",
    "f1_score(y_test, y_estimate, average='macro')"
   ]
  },
  {
   "cell_type": "code",
   "execution_count": 53,
   "metadata": {},
   "outputs": [
    {
     "data": {
      "text/plain": [
       "0.1406620786870896"
      ]
     },
     "execution_count": 53,
     "metadata": {},
     "output_type": "execute_result"
    }
   ],
   "source": [
    "# First F score taking label representation unbalance into account\n",
    "f1_score(y_test, y_estimate, average='weighted')"
   ]
  },
  {
   "cell_type": "markdown",
   "metadata": {},
   "source": [
    "------------ CONFUSION MATRIX ------------"
   ]
  },
  {
   "cell_type": "code",
   "execution_count": 54,
   "metadata": {},
   "outputs": [
    {
     "data": {
      "image/png": "[encoded data removed]",
      "text/plain": [
       "<Figure size 432x288 with 2 Axes>"
      ]
     },
     "metadata": {
      "needs_background": "light"
     },
     "output_type": "display_data"
    }
   ],
   "source": [
    "from sklearn.metrics import confusion_matrix\n",
    "import seaborn as sns\n",
    "\n",
    "keys = 'A major,A minor,Ab major,Ab minor,B major,B minor,Bb major,Bb minor,C major,C minor,D major,D minor,Db major,Db minor,E minor,E major,Eb major,Eb minor,F minor,F major,G major,G minor,Gb major,Gb minor'.split(\",\")\n",
    "\n",
    "cf_matrix = confusion_matrix(y_test, y_estimate)\n",
    "plt.figure()\n",
    "sns.heatmap(cf_matrix, cmap='Blues', xticklabels=keys, yticklabels=keys)\n",
    "plt.title(\"Confusion Matrix\")\n",
    "plt.savefig(\"confusion_matrix.png\")"
   ]
  },
  {
   "cell_type": "code",
   "execution_count": null,
   "metadata": {},
   "outputs": [],
   "source": []
  },
  {
   "cell_type": "code",
   "execution_count": null,
   "metadata": {},
   "outputs": [],
   "source": []
  }
 ],
 "metadata": {
  "kernelspec": {
   "display_name": "Python 3",
   "language": "python",
   "name": "python3"
  },
  "language_info": {
   "codemirror_mode": {
    "name": "ipython",
    "version": 3
   },
   "file_extension": ".py",
   "mimetype": "text/x-python",
   "name": "python",
   "nbconvert_exporter": "python",
   "pygments_lexer": "ipython3",
   "version": "3.8.3"
  }
 },
 "nbformat": 4,
 "nbformat_minor": 4
}
