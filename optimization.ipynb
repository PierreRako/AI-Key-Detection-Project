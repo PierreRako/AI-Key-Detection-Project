{
 "cells": [
  {
   "cell_type": "markdown",
   "metadata": {},
   "source": [
    "<h1>Optimization - MALIS project Key Estimation</h1>"
   ]
  },
  {
   "cell_type": "markdown",
   "metadata": {},
   "source": [
    "Execute this cell to import everything needed"
   ]
  },
  {
   "cell_type": "code",
   "execution_count": 1,
   "metadata": {},
   "outputs": [],
   "source": [
    "from sklearn.model_selection import cross_val_score, KFold, StratifiedKFold, validation_curve\n",
    "from sklearn.model_selection import GridSearchCV\n",
    "from sklearn.metrics import confusion_matrix\n",
    "\n",
    "import numpy as np\n",
    "import matplotlib.pyplot as plt\n",
    "from sklearn.neural_network import MLPClassifier\n",
    "from sklearn.model_selection import train_test_split\n",
    "from loading_dataset import prepare_panda_dataFrame\n",
    "import pandas as pd"
   ]
  },
  {
   "cell_type": "markdown",
   "metadata": {},
   "source": [
    "LOADING DATASETS"
   ]
  },
  {
   "cell_type": "code",
   "execution_count": 2,
   "metadata": {},
   "outputs": [
    {
     "name": "stdout",
     "output_type": "stream",
     "text": [
      "loading ./Datasets/giantsteps-key-dataset-master/audio\n",
      "What transformation would you like to perform on your dataset,\n",
      "enter 1 for chromagram, 2 for spectrogram:1\n",
      "1\n",
      "Processing data, please wait\n"
     ]
    },
    {
     "name": "stderr",
     "output_type": "stream",
     "text": [
      "/home/mirado/anaconda3/lib/python3.8/site-packages/librosa/core/pitch.py:153: UserWarning: Trying to estimate tuning from empty frequency set.\n",
      "  warnings.warn(\"Trying to estimate tuning from empty frequency set.\")\n",
      "/home/mirado/GIT/AI-Key-Detection-Project/loading_dataset.py:132: VisibleDeprecationWarning: Creating an ndarray from ragged nested sequences (which is a list-or-tuple of lists-or-tuples-or ndarrays with different lengths or shapes) is deprecated. If you meant to do this, you must specify 'dtype=object' when creating the ndarray\n",
      "  audio_key_tuples = np.array(audio_key_tuples)\n"
     ]
    },
    {
     "name": "stdout",
     "output_type": "stream",
     "text": [
      "Audios have correctly been processed \n",
      "\n",
      "Do you want to register data into dataframe ? [yes: enter 1/no: enter 0]:0\n"
     ]
    }
   ],
   "source": [
    "# Run this to create a csv file of a dataset\n",
    "dataset_path=\"./Datasets/giantsteps-key-dataset-master/audio\"\n",
    "key_annotation_path=\"./Datasets/giantsteps-key-dataset-master/annotations/key\"\n",
    "chroma_df=prepare_panda_dataFrame(dataset_path,key_annotation_path)"
   ]
  },
  {
   "cell_type": "code",
   "execution_count": 3,
   "metadata": {},
   "outputs": [
    {
     "name": "stdout",
     "output_type": "stream",
     "text": [
      "loading /home/mirado/GIT/AI-Key-Detection-Project/Datasets/giantsteps-mtg-key-dataset-master/audio/wav/\n",
      "What transformation would you like to perform on your dataset,\n",
      "enter 1 for chromagram, 2 for spectrogram:1\n",
      "1\n",
      "Processing data, please wait\n"
     ]
    },
    {
     "name": "stderr",
     "output_type": "stream",
     "text": [
      "/home/mirado/anaconda3/lib/python3.8/site-packages/librosa/core/pitch.py:153: UserWarning: Trying to estimate tuning from empty frequency set.\n",
      "  warnings.warn(\"Trying to estimate tuning from empty frequency set.\")\n"
     ]
    },
    {
     "name": "stdout",
     "output_type": "stream",
     "text": [
      "Audios have correctly been processed \n",
      "\n",
      "Do you want to register data into dataframe ? [yes: enter 1/no: enter 0]:0\n"
     ]
    }
   ],
   "source": [
    "dataset_path = \"/home/mirado/GIT/AI-Key-Detection-Project/Datasets/giantsteps-mtg-key-dataset-master/audio/wav/\"\n",
    "key_annotation_path = \"/home/mirado/GIT/AI-Key-Detection-Project/Datasets/giantsteps-mtg-key-dataset-master/annotations/mtg_annotations_key/\"\n",
    "chroma_mtg_df=prepare_panda_dataFrame(dataset_path,key_annotation_path)"
   ]
  },
  {
   "cell_type": "markdown",
   "metadata": {},
   "source": [
    "-------------------- KFold --------------------"
   ]
  },
  {
   "cell_type": "code",
   "execution_count": 6,
   "metadata": {},
   "outputs": [],
   "source": [
    "    # Neural network parameters\n",
    "    epochs = 500\n",
    "    iter_for_convergence = epochs\n",
    "    hidden_layer_sizes = (100,50,30) # these represents the number of neurons IN THE HIDDEN LAYERS ONLYS\n",
    "    activation = 'logistic'\n",
    "    validation= True;\n",
    "    verbose=False;\n",
    "    learning_rate = 0.008\n",
    "    \n",
    "    # Regularization constant\n",
    "    alpha=0.0\n",
    "\n",
    "    # NNet init\n",
    "    mlp = MLPClassifier(hidden_layer_sizes=hidden_layer_sizes, activation=activation, \n",
    "                        random_state=1, max_iter=epochs, learning_rate_init=learning_rate, \n",
    "                        learning_rate='adaptive', alpha=alpha, early_stopping=validation, \n",
    "                        verbose=verbose, n_iter_no_change=iter_for_convergence)"
   ]
  },
  {
   "cell_type": "code",
   "execution_count": 7,
   "metadata": {},
   "outputs": [],
   "source": [
    "# Preparation of training data\n",
    "#spectro_gs_df = pd.read_csv(\"giantsteps_spectro.csv\")\n",
    "\n",
    "X, y = np.stack(chroma_df['chromagram']), np.array(chroma_df['coded_key'].astype('int'))"
   ]
  },
  {
   "cell_type": "code",
   "execution_count": 8,
   "metadata": {},
   "outputs": [
    {
     "name": "stderr",
     "output_type": "stream",
     "text": [
      "/home/mirado/anaconda3/lib/python3.8/site-packages/sklearn/neural_network/_multilayer_perceptron.py:582: ConvergenceWarning: Stochastic Optimizer: Maximum iterations (500) reached and the optimization hasn't converged yet.\n",
      "  warnings.warn(\n",
      "/home/mirado/anaconda3/lib/python3.8/site-packages/sklearn/neural_network/_multilayer_perceptron.py:582: ConvergenceWarning: Stochastic Optimizer: Maximum iterations (500) reached and the optimization hasn't converged yet.\n",
      "  warnings.warn(\n",
      "/home/mirado/anaconda3/lib/python3.8/site-packages/sklearn/neural_network/_multilayer_perceptron.py:582: ConvergenceWarning: Stochastic Optimizer: Maximum iterations (500) reached and the optimization hasn't converged yet.\n",
      "  warnings.warn(\n",
      "/home/mirado/anaconda3/lib/python3.8/site-packages/sklearn/neural_network/_multilayer_perceptron.py:582: ConvergenceWarning: Stochastic Optimizer: Maximum iterations (500) reached and the optimization hasn't converged yet.\n",
      "  warnings.warn(\n",
      "/home/mirado/anaconda3/lib/python3.8/site-packages/sklearn/neural_network/_multilayer_perceptron.py:582: ConvergenceWarning: Stochastic Optimizer: Maximum iterations (500) reached and the optimization hasn't converged yet.\n",
      "  warnings.warn(\n",
      "/home/mirado/anaconda3/lib/python3.8/site-packages/sklearn/model_selection/_split.py:670: UserWarning: The least populated class in y has only 1 members, which is less than n_splits=5.\n",
      "  warnings.warn((\"The least populated class in y has only %d\"\n",
      "/home/mirado/anaconda3/lib/python3.8/site-packages/sklearn/neural_network/_multilayer_perceptron.py:582: ConvergenceWarning: Stochastic Optimizer: Maximum iterations (500) reached and the optimization hasn't converged yet.\n",
      "  warnings.warn(\n",
      "/home/mirado/anaconda3/lib/python3.8/site-packages/sklearn/neural_network/_multilayer_perceptron.py:582: ConvergenceWarning: Stochastic Optimizer: Maximum iterations (500) reached and the optimization hasn't converged yet.\n",
      "  warnings.warn(\n",
      "/home/mirado/anaconda3/lib/python3.8/site-packages/sklearn/neural_network/_multilayer_perceptron.py:582: ConvergenceWarning: Stochastic Optimizer: Maximum iterations (500) reached and the optimization hasn't converged yet.\n",
      "  warnings.warn(\n",
      "/home/mirado/anaconda3/lib/python3.8/site-packages/sklearn/neural_network/_multilayer_perceptron.py:582: ConvergenceWarning: Stochastic Optimizer: Maximum iterations (500) reached and the optimization hasn't converged yet.\n",
      "  warnings.warn(\n",
      "/home/mirado/anaconda3/lib/python3.8/site-packages/sklearn/neural_network/_multilayer_perceptron.py:582: ConvergenceWarning: Stochastic Optimizer: Maximum iterations (500) reached and the optimization hasn't converged yet.\n",
      "  warnings.warn(\n"
     ]
    }
   ],
   "source": [
    "kfold = KFold(n_splits=5)\n",
    "skfold = StratifiedKFold(5)\n",
    "\n",
    "y_array_kfold = cross_val_score(mlp, X, y, cv=kfold)\n",
    "y_array_skfold = cross_val_score(mlp, X, y, cv=skfold)"
   ]
  },
  {
   "cell_type": "code",
   "execution_count": 9,
   "metadata": {},
   "outputs": [
    {
     "data": {
      "image/png": "[encoded data removed]",
      "text/plain": [
       "<Figure size 432x288 with 2 Axes>"
      ]
     },
     "metadata": {
      "needs_background": "light"
     },
     "output_type": "display_data"
    }
   ],
   "source": [
    "# Ploting the results\n",
    "x = [i for i in range(1,6)]\n",
    "\n",
    "for i in range(2):\n",
    "    plt.subplot(1,2,i+1)\n",
    "    if i==0:\n",
    "        plt.bar(x, y_array_kfold)\n",
    "        plt.title(\"Results for KFold\")\n",
    "    if i==1: \n",
    "        plt.bar(x, y_array_skfold)\n",
    "        plt.title(\"Results for Stratified KFold\")"
   ]
  },
  {
   "cell_type": "code",
   "execution_count": 15,
   "metadata": {},
   "outputs": [
    {
     "name": "stdout",
     "output_type": "stream",
     "text": [
      "Average accuracy for 5-Fold: 21.86 %\n",
      "Average accuracy for Stratified 5-Fold: 22.35 %\n"
     ]
    }
   ],
   "source": [
    "print(\"Average accuracy for 5-Fold:\", round(y_array_kfold.mean()*100, 2),\"%\")\n",
    "print(\"Average accuracy for Stratified 5-Fold:\", round(y_array_skfold.mean()*100,2), \"%\")"
   ]
  },
  {
   "cell_type": "markdown",
   "metadata": {},
   "source": [
    "We recover the best split from the Stratified KFold as it has a better result in terms of accuracy."
   ]
  },
  {
   "cell_type": "code",
   "execution_count": 16,
   "metadata": {},
   "outputs": [
    {
     "name": "stderr",
     "output_type": "stream",
     "text": [
      "/home/mirado/anaconda3/lib/python3.8/site-packages/sklearn/model_selection/_split.py:670: UserWarning: The least populated class in y has only 1 members, which is less than n_splits=5.\n",
      "  warnings.warn((\"The least populated class in y has only %d\"\n"
     ]
    }
   ],
   "source": [
    "accuracy = []\n",
    "skfold.get_n_splits(X,y)\n",
    "\n",
    "index = 1\n",
    "counter = 0\n",
    "\n",
    "for train_indexes, test_indexes in skfold.split(X,y):\n",
    "    if (counter == index):\n",
    "        X_train, X_test = X[train_indexes], X[test_indexes]\n",
    "        y_train, y_test = y[train_indexes], y[test_indexes]\n",
    "        break\n",
    "    counter +=1"
   ]
  },
  {
   "cell_type": "markdown",
   "metadata": {},
   "source": [
    "-------------------- GRID SEARCH --------------------"
   ]
  },
  {
   "cell_type": "code",
   "execution_count": 17,
   "metadata": {},
   "outputs": [],
   "source": [
    "# Creating the MLP Classifier and initiating all values for that\n",
    "epochs = 400\n",
    "iter_for_convergence = epochs\n",
    "hidden_layer_sizes = (100,50,30) # these represents the number of neurons IN THE HIDDEN LAYERS ONLYS\n",
    "activation = 'logistic'\n",
    "validation= True;\n",
    "verbose=False;\n",
    "\n",
    "#mlp = MLPClassifier(hidden_layer_sizes = hidden_layer_sizes, activation=activation,\n",
    "#                   random_state=1, early_stopping=validation,\n",
    "#                   verbose=verbose, n_iter_no_change=iter_for_convergence)\n",
    "\n",
    "parameters_dict = {\n",
    "    'alpha': [0.0001, 0.05],\n",
    "    'learning_rate_init': [10**-5, 10**-4, 10**-3, 10**-2]\n",
    "}\n",
    "\n",
    "#mlp = MLPClassifier(hidden_layer_sizes=hidden_layer_sizes, activation=activation, \n",
    "#                        random_state=1, max_iter=epochs, \n",
    "#                        learning_rate='adaptive', early_stopping=validation, \n",
    "#                        verbose=verbose, n_iter_no_change=iter_for_convergence)"
   ]
  },
  {
   "cell_type": "code",
   "execution_count": 18,
   "metadata": {},
   "outputs": [
    {
     "name": "stderr",
     "output_type": "stream",
     "text": [
      "/home/mirado/anaconda3/lib/python3.8/site-packages/sklearn/model_selection/_split.py:670: UserWarning: The least populated class in y has only 1 members, which is less than n_splits=5.\n",
      "  warnings.warn((\"The least populated class in y has only %d\"\n",
      "/home/mirado/anaconda3/lib/python3.8/site-packages/sklearn/neural_network/_multilayer_perceptron.py:582: ConvergenceWarning: Stochastic Optimizer: Maximum iterations (500) reached and the optimization hasn't converged yet.\n",
      "  warnings.warn(\n"
     ]
    },
    {
     "data": {
      "text/plain": [
       "GridSearchCV(cv=5,\n",
       "             estimator=MLPClassifier(activation='logistic', alpha=0.0,\n",
       "                                     early_stopping=True,\n",
       "                                     hidden_layer_sizes=(100, 50, 30),\n",
       "                                     learning_rate='adaptive',\n",
       "                                     learning_rate_init=0.008, max_iter=500,\n",
       "                                     n_iter_no_change=500, random_state=1),\n",
       "             n_jobs=-1,\n",
       "             param_grid={'alpha': [0.0001, 0.05],\n",
       "                         'learning_rate_init': [1e-05, 0.0001, 0.001, 0.01]})"
      ]
     },
     "execution_count": 18,
     "metadata": {},
     "output_type": "execute_result"
    }
   ],
   "source": [
    "# Performing Gridsearch on the parameters\n",
    "\n",
    "# n_jobs = number of cores to use (-1 = all available)\n",
    "# cv = number of splits for cross validation\n",
    "\n",
    "clf = GridSearchCV(mlp, parameters_dict, n_jobs=-1, cv=5)\n",
    "clf.fit(X_train, y_train)\n",
    "#mlp.fit(X_train, y_train)"
   ]
  },
  {
   "cell_type": "code",
   "execution_count": 21,
   "metadata": {},
   "outputs": [
    {
     "data": {
      "text/html": [
       "<div>\n",
       "<style scoped>\n",
       "    .dataframe tbody tr th:only-of-type {\n",
       "        vertical-align: middle;\n",
       "    }\n",
       "\n",
       "    .dataframe tbody tr th {\n",
       "        vertical-align: top;\n",
       "    }\n",
       "\n",
       "    .dataframe thead th {\n",
       "        text-align: right;\n",
       "    }\n",
       "</style>\n",
       "<table border=\"1\" class=\"dataframe\">\n",
       "  <thead>\n",
       "    <tr style=\"text-align: right;\">\n",
       "      <th></th>\n",
       "      <th>mean_fit_time</th>\n",
       "      <th>std_fit_time</th>\n",
       "      <th>mean_score_time</th>\n",
       "      <th>std_score_time</th>\n",
       "      <th>param_alpha</th>\n",
       "      <th>param_learning_rate_init</th>\n",
       "      <th>params</th>\n",
       "      <th>split0_test_score</th>\n",
       "      <th>split1_test_score</th>\n",
       "      <th>split2_test_score</th>\n",
       "      <th>split3_test_score</th>\n",
       "      <th>split4_test_score</th>\n",
       "      <th>mean_test_score</th>\n",
       "      <th>std_test_score</th>\n",
       "      <th>rank_test_score</th>\n",
       "    </tr>\n",
       "  </thead>\n",
       "  <tbody>\n",
       "    <tr>\n",
       "      <th>0</th>\n",
       "      <td>18.961269</td>\n",
       "      <td>0.359053</td>\n",
       "      <td>0.003921</td>\n",
       "      <td>0.000625</td>\n",
       "      <td>0.0001</td>\n",
       "      <td>1e-05</td>\n",
       "      <td>{'alpha': 0.0001, 'learning_rate_init': 1e-05}</td>\n",
       "      <td>0.092784</td>\n",
       "      <td>0.082474</td>\n",
       "      <td>0.082474</td>\n",
       "      <td>0.093750</td>\n",
       "      <td>0.093750</td>\n",
       "      <td>0.089046</td>\n",
       "      <td>0.005378</td>\n",
       "      <td>7</td>\n",
       "    </tr>\n",
       "    <tr>\n",
       "      <th>1</th>\n",
       "      <td>19.406257</td>\n",
       "      <td>0.624792</td>\n",
       "      <td>0.004230</td>\n",
       "      <td>0.000564</td>\n",
       "      <td>0.0001</td>\n",
       "      <td>0.0001</td>\n",
       "      <td>{'alpha': 0.0001, 'learning_rate_init': 0.0001}</td>\n",
       "      <td>0.134021</td>\n",
       "      <td>0.144330</td>\n",
       "      <td>0.185567</td>\n",
       "      <td>0.187500</td>\n",
       "      <td>0.208333</td>\n",
       "      <td>0.171950</td>\n",
       "      <td>0.028116</td>\n",
       "      <td>3</td>\n",
       "    </tr>\n",
       "    <tr>\n",
       "      <th>2</th>\n",
       "      <td>20.016181</td>\n",
       "      <td>0.470826</td>\n",
       "      <td>0.004191</td>\n",
       "      <td>0.000510</td>\n",
       "      <td>0.0001</td>\n",
       "      <td>0.001</td>\n",
       "      <td>{'alpha': 0.0001, 'learning_rate_init': 0.001}</td>\n",
       "      <td>0.237113</td>\n",
       "      <td>0.226804</td>\n",
       "      <td>0.195876</td>\n",
       "      <td>0.187500</td>\n",
       "      <td>0.208333</td>\n",
       "      <td>0.211125</td>\n",
       "      <td>0.018546</td>\n",
       "      <td>1</td>\n",
       "    </tr>\n",
       "    <tr>\n",
       "      <th>3</th>\n",
       "      <td>20.750339</td>\n",
       "      <td>0.396378</td>\n",
       "      <td>0.005309</td>\n",
       "      <td>0.001162</td>\n",
       "      <td>0.0001</td>\n",
       "      <td>0.01</td>\n",
       "      <td>{'alpha': 0.0001, 'learning_rate_init': 0.01}</td>\n",
       "      <td>0.175258</td>\n",
       "      <td>0.123711</td>\n",
       "      <td>0.175258</td>\n",
       "      <td>0.187500</td>\n",
       "      <td>0.187500</td>\n",
       "      <td>0.169845</td>\n",
       "      <td>0.023708</td>\n",
       "      <td>4</td>\n",
       "    </tr>\n",
       "    <tr>\n",
       "      <th>4</th>\n",
       "      <td>20.963482</td>\n",
       "      <td>0.342977</td>\n",
       "      <td>0.004910</td>\n",
       "      <td>0.000453</td>\n",
       "      <td>0.05</td>\n",
       "      <td>1e-05</td>\n",
       "      <td>{'alpha': 0.05, 'learning_rate_init': 1e-05}</td>\n",
       "      <td>0.092784</td>\n",
       "      <td>0.082474</td>\n",
       "      <td>0.082474</td>\n",
       "      <td>0.093750</td>\n",
       "      <td>0.093750</td>\n",
       "      <td>0.089046</td>\n",
       "      <td>0.005378</td>\n",
       "      <td>7</td>\n",
       "    </tr>\n",
       "    <tr>\n",
       "      <th>5</th>\n",
       "      <td>20.095812</td>\n",
       "      <td>0.356940</td>\n",
       "      <td>0.004153</td>\n",
       "      <td>0.000306</td>\n",
       "      <td>0.05</td>\n",
       "      <td>0.0001</td>\n",
       "      <td>{'alpha': 0.05, 'learning_rate_init': 0.0001}</td>\n",
       "      <td>0.123711</td>\n",
       "      <td>0.113402</td>\n",
       "      <td>0.154639</td>\n",
       "      <td>0.177083</td>\n",
       "      <td>0.208333</td>\n",
       "      <td>0.155434</td>\n",
       "      <td>0.034758</td>\n",
       "      <td>6</td>\n",
       "    </tr>\n",
       "    <tr>\n",
       "      <th>6</th>\n",
       "      <td>19.987140</td>\n",
       "      <td>0.271122</td>\n",
       "      <td>0.003306</td>\n",
       "      <td>0.000621</td>\n",
       "      <td>0.05</td>\n",
       "      <td>0.001</td>\n",
       "      <td>{'alpha': 0.05, 'learning_rate_init': 0.001}</td>\n",
       "      <td>0.206186</td>\n",
       "      <td>0.154639</td>\n",
       "      <td>0.144330</td>\n",
       "      <td>0.104167</td>\n",
       "      <td>0.197917</td>\n",
       "      <td>0.161448</td>\n",
       "      <td>0.037288</td>\n",
       "      <td>5</td>\n",
       "    </tr>\n",
       "    <tr>\n",
       "      <th>7</th>\n",
       "      <td>10.091994</td>\n",
       "      <td>4.649891</td>\n",
       "      <td>0.001523</td>\n",
       "      <td>0.000275</td>\n",
       "      <td>0.05</td>\n",
       "      <td>0.01</td>\n",
       "      <td>{'alpha': 0.05, 'learning_rate_init': 0.01}</td>\n",
       "      <td>0.175258</td>\n",
       "      <td>0.247423</td>\n",
       "      <td>0.185567</td>\n",
       "      <td>0.187500</td>\n",
       "      <td>0.197917</td>\n",
       "      <td>0.198733</td>\n",
       "      <td>0.025385</td>\n",
       "      <td>2</td>\n",
       "    </tr>\n",
       "  </tbody>\n",
       "</table>\n",
       "</div>"
      ],
      "text/plain": [
       "   mean_fit_time  std_fit_time  mean_score_time  std_score_time param_alpha  \\\n",
       "0      18.961269      0.359053         0.003921        0.000625      0.0001   \n",
       "1      19.406257      0.624792         0.004230        0.000564      0.0001   \n",
       "2      20.016181      0.470826         0.004191        0.000510      0.0001   \n",
       "3      20.750339      0.396378         0.005309        0.001162      0.0001   \n",
       "4      20.963482      0.342977         0.004910        0.000453        0.05   \n",
       "5      20.095812      0.356940         0.004153        0.000306        0.05   \n",
       "6      19.987140      0.271122         0.003306        0.000621        0.05   \n",
       "7      10.091994      4.649891         0.001523        0.000275        0.05   \n",
       "\n",
       "  param_learning_rate_init                                           params  \\\n",
       "0                    1e-05   {'alpha': 0.0001, 'learning_rate_init': 1e-05}   \n",
       "1                   0.0001  {'alpha': 0.0001, 'learning_rate_init': 0.0001}   \n",
       "2                    0.001   {'alpha': 0.0001, 'learning_rate_init': 0.001}   \n",
       "3                     0.01    {'alpha': 0.0001, 'learning_rate_init': 0.01}   \n",
       "4                    1e-05     {'alpha': 0.05, 'learning_rate_init': 1e-05}   \n",
       "5                   0.0001    {'alpha': 0.05, 'learning_rate_init': 0.0001}   \n",
       "6                    0.001     {'alpha': 0.05, 'learning_rate_init': 0.001}   \n",
       "7                     0.01      {'alpha': 0.05, 'learning_rate_init': 0.01}   \n",
       "\n",
       "   split0_test_score  split1_test_score  split2_test_score  split3_test_score  \\\n",
       "0           0.092784           0.082474           0.082474           0.093750   \n",
       "1           0.134021           0.144330           0.185567           0.187500   \n",
       "2           0.237113           0.226804           0.195876           0.187500   \n",
       "3           0.175258           0.123711           0.175258           0.187500   \n",
       "4           0.092784           0.082474           0.082474           0.093750   \n",
       "5           0.123711           0.113402           0.154639           0.177083   \n",
       "6           0.206186           0.154639           0.144330           0.104167   \n",
       "7           0.175258           0.247423           0.185567           0.187500   \n",
       "\n",
       "   split4_test_score  mean_test_score  std_test_score  rank_test_score  \n",
       "0           0.093750         0.089046        0.005378                7  \n",
       "1           0.208333         0.171950        0.028116                3  \n",
       "2           0.208333         0.211125        0.018546                1  \n",
       "3           0.187500         0.169845        0.023708                4  \n",
       "4           0.093750         0.089046        0.005378                7  \n",
       "5           0.208333         0.155434        0.034758                6  \n",
       "6           0.197917         0.161448        0.037288                5  \n",
       "7           0.197917         0.198733        0.025385                2  "
      ]
     },
     "execution_count": 21,
     "metadata": {},
     "output_type": "execute_result"
    }
   ],
   "source": [
    "df_results = pd.DataFrame(clf.cv_results_)\n",
    "df_results"
   ]
  },
  {
   "cell_type": "code",
   "execution_count": 23,
   "metadata": {},
   "outputs": [
    {
     "data": {
      "text/html": [
       "<div>\n",
       "<style scoped>\n",
       "    .dataframe tbody tr th:only-of-type {\n",
       "        vertical-align: middle;\n",
       "    }\n",
       "\n",
       "    .dataframe tbody tr th {\n",
       "        vertical-align: top;\n",
       "    }\n",
       "\n",
       "    .dataframe thead th {\n",
       "        text-align: right;\n",
       "    }\n",
       "</style>\n",
       "<table border=\"1\" class=\"dataframe\">\n",
       "  <thead>\n",
       "    <tr style=\"text-align: right;\">\n",
       "      <th></th>\n",
       "      <th>param_alpha</th>\n",
       "      <th>param_learning_rate_init</th>\n",
       "      <th>mean_test_score</th>\n",
       "    </tr>\n",
       "  </thead>\n",
       "  <tbody>\n",
       "    <tr>\n",
       "      <th>0</th>\n",
       "      <td>0.0001</td>\n",
       "      <td>1e-05</td>\n",
       "      <td>0.089046</td>\n",
       "    </tr>\n",
       "    <tr>\n",
       "      <th>1</th>\n",
       "      <td>0.0001</td>\n",
       "      <td>0.0001</td>\n",
       "      <td>0.171950</td>\n",
       "    </tr>\n",
       "    <tr>\n",
       "      <th>2</th>\n",
       "      <td>0.0001</td>\n",
       "      <td>0.001</td>\n",
       "      <td>0.211125</td>\n",
       "    </tr>\n",
       "    <tr>\n",
       "      <th>3</th>\n",
       "      <td>0.0001</td>\n",
       "      <td>0.01</td>\n",
       "      <td>0.169845</td>\n",
       "    </tr>\n",
       "    <tr>\n",
       "      <th>4</th>\n",
       "      <td>0.05</td>\n",
       "      <td>1e-05</td>\n",
       "      <td>0.089046</td>\n",
       "    </tr>\n",
       "    <tr>\n",
       "      <th>5</th>\n",
       "      <td>0.05</td>\n",
       "      <td>0.0001</td>\n",
       "      <td>0.155434</td>\n",
       "    </tr>\n",
       "    <tr>\n",
       "      <th>6</th>\n",
       "      <td>0.05</td>\n",
       "      <td>0.001</td>\n",
       "      <td>0.161448</td>\n",
       "    </tr>\n",
       "    <tr>\n",
       "      <th>7</th>\n",
       "      <td>0.05</td>\n",
       "      <td>0.01</td>\n",
       "      <td>0.198733</td>\n",
       "    </tr>\n",
       "  </tbody>\n",
       "</table>\n",
       "</div>"
      ],
      "text/plain": [
       "  param_alpha param_learning_rate_init  mean_test_score\n",
       "0      0.0001                    1e-05         0.089046\n",
       "1      0.0001                   0.0001         0.171950\n",
       "2      0.0001                    0.001         0.211125\n",
       "3      0.0001                     0.01         0.169845\n",
       "4        0.05                    1e-05         0.089046\n",
       "5        0.05                   0.0001         0.155434\n",
       "6        0.05                    0.001         0.161448\n",
       "7        0.05                     0.01         0.198733"
      ]
     },
     "execution_count": 23,
     "metadata": {},
     "output_type": "execute_result"
    }
   ],
   "source": [
    "df_results[['param_alpha', 'param_learning_rate_init','mean_test_score']]"
   ]
  },
  {
   "cell_type": "code",
   "execution_count": 24,
   "metadata": {},
   "outputs": [
    {
     "data": {
      "text/plain": [
       "{'alpha': 0.0001, 'learning_rate_init': 0.001}"
      ]
     },
     "execution_count": 24,
     "metadata": {},
     "output_type": "execute_result"
    }
   ],
   "source": [
    "clf.best_params_"
   ]
  },
  {
   "cell_type": "code",
   "execution_count": null,
   "metadata": {},
   "outputs": [],
   "source": []
  }
 ],
 "metadata": {
  "kernelspec": {
   "display_name": "Python 3",
   "language": "python",
   "name": "python3"
  },
  "language_info": {
   "codemirror_mode": {
    "name": "ipython",
    "version": 3
   },
   "file_extension": ".py",
   "mimetype": "text/x-python",
   "name": "python",
   "nbconvert_exporter": "python",
   "pygments_lexer": "ipython3",
   "version": "3.8.3"
  }
 },
 "nbformat": 4,
 "nbformat_minor": 4
}
